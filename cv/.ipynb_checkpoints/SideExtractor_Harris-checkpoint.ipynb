{
 "cells": [
  {
   "cell_type": "code",
   "execution_count": 1,
   "metadata": {},
   "outputs": [],
   "source": [
    "import os\n",
    "from os.path import join\n",
    "import numpy as np\n",
    "import cv2\n",
    "import matplotlib.pyplot as plt\n",
    "from side_extractor import process_piece, plot_side_images\n",
    "from functools import partial\n",
    "import traceback\n",
    "from separate_pieces import preprocess\n",
    "from skimage import io"
   ]
  },
  {
   "cell_type": "code",
   "execution_count": 2,
   "metadata": {},
   "outputs": [],
   "source": [
    "directory = 'test_images'\n",
    "\n",
    "filenames = os.listdir(directory)\n",
    "filenames.sort()\n",
    "\n",
    "num_pieces = 5\n",
    "\n",
    "if \".DS_Store\" in filenames:\n",
    "    filenames.remove(\".DS_Store\")"
   ]
  },
  {
   "cell_type": "code",
   "execution_count": 3,
   "metadata": {},
   "outputs": [],
   "source": [
    "def plot_grid(size, out_dict, *image_keys):\n",
    "    h, w = size\n",
    "    for idx, img_key in enumerate(image_keys, start=1):\n",
    "        plt.subplot(h * 100 + w * 10 + idx)\n",
    "        if img_key[0] == '_':\n",
    "            plt.imshow(out_dict[img_key[1:]], cmap='gray')\n",
    "        else:\n",
    "            plt.imshow(out_dict[img_key])"
   ]
  },
  {
   "cell_type": "code",
   "execution_count": null,
   "metadata": {
    "scrolled": false
   },
   "outputs": [],
   "source": [
    "postprocess = partial(cv2.blur, ksize=(3, 3))\n",
    "results = []\n",
    "error_labels = []\n",
    "\n",
    "img = io.imread(\"images/IMG_20180415_212024065.jpg\")\n",
    "pieces = preprocess(img, num_pieces)\n",
    "\n",
    "for piece in pieces:\n",
    "    \n",
    "    out_dict = process_piece(piece, after_segmentation_func=postprocess, scale_factor=0.4, \n",
    "                             harris_block_size=5, harris_ksize=5,\n",
    "                             corner_score_threshold=0.2, corner_minmax_threshold=100)\n",
    "    \n",
    "    plt.figure(figsize=(6, 6))\n",
    "    plt.title(\"PLACEHOLDER\")\n",
    "    plt.imshow(out_dict['extracted'], cmap='gray')\n",
    "    plt.scatter(out_dict['xy'][:, 0], out_dict['xy'][:, 1], color='red')\n",
    "    #plt.colorbar()\n",
    "    plt.show()\n",
    "    \n",
    "    if 'error' in out_dict:\n",
    "        print(\"PLACEHOLDER\", ':', out_dict['error'])\n",
    "        error_labels.append(\"PLACEHOLDER\")\n",
    "        traceback.print_exc()\n",
    "        continue\n",
    "        \n",
    "    else:\n",
    "        \n",
    "        plt.figure(figsize=(6, 6))\n",
    "        # plt.title(filename)\n",
    "        plt.imshow(out_dict['class_image'])\n",
    "        #plot_grid((3, 3), out_dict, '_segmented', '_extracted', '_edges', 'class_image')\n",
    "        # plt.show()\n",
    "\n",
    "        # plot_side_images(out_dict['side_images'], out_dict['inout'])\n",
    "\n",
    "        results.append({'side_images': out_dict['side_images'], 'inout': out_dict['inout']})"
   ]
  },
  {
   "cell_type": "code",
   "execution_count": 24,
   "metadata": {},
   "outputs": [
    {
     "ename": "NameError",
     "evalue": "name 'labels' is not defined",
     "output_type": "error",
     "traceback": [
      "\u001b[0;31m---------------------------------------------------------------------------\u001b[0m",
      "\u001b[0;31mNameError\u001b[0m                                 Traceback (most recent call last)",
      "\u001b[0;32m<ipython-input-24-8c2aa6a9aef9>\u001b[0m in \u001b[0;36m<module>\u001b[0;34m()\u001b[0m\n\u001b[1;32m      3\u001b[0m     \u001b[0mlabels\u001b[0m\u001b[0;34m.\u001b[0m\u001b[0mremove\u001b[0m\u001b[0;34m(\u001b[0m\u001b[0mel\u001b[0m\u001b[0;34m)\u001b[0m\u001b[0;34m\u001b[0m\u001b[0m\n\u001b[1;32m      4\u001b[0m \u001b[0;34m\u001b[0m\u001b[0m\n\u001b[0;32m----> 5\u001b[0;31m \u001b[0;32mfor\u001b[0m \u001b[0mlabel\u001b[0m\u001b[0;34m,\u001b[0m \u001b[0mresult\u001b[0m \u001b[0;32min\u001b[0m \u001b[0mzip\u001b[0m\u001b[0;34m(\u001b[0m\u001b[0mlabels\u001b[0m\u001b[0;34m,\u001b[0m \u001b[0mresults\u001b[0m\u001b[0;34m)\u001b[0m\u001b[0;34m:\u001b[0m\u001b[0;34m\u001b[0m\u001b[0m\n\u001b[0m\u001b[1;32m      6\u001b[0m \u001b[0;34m\u001b[0m\u001b[0m\n\u001b[1;32m      7\u001b[0m     \u001b[0;32mif\u001b[0m \u001b[0mlabel\u001b[0m \u001b[0;32min\u001b[0m \u001b[0mto_ignore\u001b[0m\u001b[0;34m:\u001b[0m\u001b[0;34m\u001b[0m\u001b[0m\n",
      "\u001b[0;31mNameError\u001b[0m: name 'labels' is not defined"
     ]
    }
   ],
   "source": [
    "to_ignore = ['D70']\n",
    "for el in error_labels:\n",
    "    labels.remove(el)\n",
    "\n",
    "for label, result in zip(labels, results):\n",
    "    \n",
    "    if label in to_ignore:\n",
    "        continue\n",
    "    \n",
    "    for i, (side_image, io) in enumerate(zip(result['side_images'], result['inout']), start=1):\n",
    "        \n",
    "        out_io = 'int' if io == 'in' else 'out'\n",
    "        side_image = side_image * 255\n",
    "        \n",
    "        \n",
    "        out_filename = \"{0}_{1}_{2}.jpg\".format(label, i, out_io)\n",
    "        out_path = join('sides', out_filename)\n",
    "        \n",
    "        cv2.imwrite(out_path, side_image)"
   ]
  },
  {
   "cell_type": "code",
   "execution_count": null,
   "metadata": {},
   "outputs": [],
   "source": []
  }
 ],
 "metadata": {
  "kernelspec": {
   "display_name": "Python 3",
   "language": "python",
   "name": "python3"
  },
  "language_info": {
   "codemirror_mode": {
    "name": "ipython",
    "version": 3
   },
   "file_extension": ".py",
   "mimetype": "text/x-python",
   "name": "python",
   "nbconvert_exporter": "python",
   "pygments_lexer": "ipython3",
   "version": "3.6.5"
  }
 },
 "nbformat": 4,
 "nbformat_minor": 2
}
