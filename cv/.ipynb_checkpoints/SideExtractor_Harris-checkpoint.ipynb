{
 "cells": [
  {
   "cell_type": "code",
   "execution_count": 1,
   "metadata": {},
   "outputs": [],
   "source": [
    "import os\n",
    "from os.path import join\n",
    "import numpy as np\n",
    "import cv2\n",
    "import matplotlib.pyplot as plt\n",
    "from side_extractor import process_piece, plot_side_images\n",
    "from functools import partial\n",
    "import traceback\n",
    "from separate_pieces import preprocess\n",
    "from skimage import io"
   ]
  },
  {
   "cell_type": "code",
   "execution_count": 2,
   "metadata": {},
   "outputs": [],
   "source": [
    "num_pieces = 11"
   ]
  },
  {
   "cell_type": "code",
   "execution_count": 3,
   "metadata": {},
   "outputs": [],
   "source": [
    "def plot_grid(size, out_dict, *image_keys):\n",
    "    h, w = size\n",
    "    for idx, img_key in enumerate(image_keys, start=1):\n",
    "        plt.subplot(h * 100 + w * 10 + idx)\n",
    "        if img_key[0] == '_':\n",
    "            plt.imshow(out_dict[img_key[1:]], cmap='gray')\n",
    "        else:\n",
    "            plt.imshow(out_dict[img_key])"
   ]
  },
  {
   "cell_type": "code",
   "execution_count": 4,
   "metadata": {
    "scrolled": false
   },
   "outputs": [
    {
     "name": "stdout",
     "output_type": "stream",
     "text": [
      "1.125\n",
      "1.15\n",
      "1.1749999999999998\n",
      "1.1999999999999997\n",
      "1.2249999999999996\n",
      "1.2499999999999996\n",
      "1.2749999999999995\n",
      "1.2999999999999994\n",
      "1.3249999999999993\n",
      "1.3499999999999992\n",
      "1.3749999999999991\n",
      "1.399999999999999\n",
      "1.424999999999999\n",
      "1.4499999999999988\n",
      "1.4749999999999988\n",
      "1.4999999999999987\n",
      "1.5249999999999986\n",
      "1.5499999999999985\n",
      "1.5749999999999984\n",
      "1.5999999999999983\n",
      "1.6249999999999982\n",
      "1.6499999999999981\n",
      "1.674999999999998\n"
     ]
    },
    {
     "ename": "KeyboardInterrupt",
     "evalue": "",
     "output_type": "error",
     "traceback": [
      "\u001b[0;31m---------------------------------------------------------------------------\u001b[0m",
      "\u001b[0;31mKeyboardInterrupt\u001b[0m                         Traceback (most recent call last)",
      "\u001b[0;32m<ipython-input-4-6c9868696178>\u001b[0m in \u001b[0;36m<module>\u001b[0;34m()\u001b[0m\n\u001b[1;32m      4\u001b[0m \u001b[0;34m\u001b[0m\u001b[0m\n\u001b[1;32m      5\u001b[0m \u001b[0mimg\u001b[0m \u001b[0;34m=\u001b[0m \u001b[0mio\u001b[0m\u001b[0;34m.\u001b[0m\u001b[0mimread\u001b[0m\u001b[0;34m(\u001b[0m\u001b[0;34m\"test_images/pic6.jpeg\"\u001b[0m\u001b[0;34m)\u001b[0m\u001b[0;34m\u001b[0m\u001b[0m\n\u001b[0;32m----> 6\u001b[0;31m \u001b[0mpieces\u001b[0m \u001b[0;34m=\u001b[0m \u001b[0mpreprocess\u001b[0m\u001b[0;34m(\u001b[0m\u001b[0mimg\u001b[0m\u001b[0;34m,\u001b[0m \u001b[0mnum_pieces\u001b[0m\u001b[0;34m)\u001b[0m\u001b[0;34m\u001b[0m\u001b[0m\n\u001b[0m\u001b[1;32m      7\u001b[0m \u001b[0mprint\u001b[0m\u001b[0;34m(\u001b[0m\u001b[0mlen\u001b[0m\u001b[0;34m(\u001b[0m\u001b[0mpieces\u001b[0m\u001b[0;34m)\u001b[0m\u001b[0;34m)\u001b[0m\u001b[0;34m\u001b[0m\u001b[0m\n\u001b[1;32m      8\u001b[0m \u001b[0;34m\u001b[0m\u001b[0m\n",
      "\u001b[0;32m~/Desktop/puzzle-solver/cv/separate_pieces.py\u001b[0m in \u001b[0;36mpreprocess\u001b[0;34m(img, num_pieces)\u001b[0m\n\u001b[1;32m      8\u001b[0m         \u001b[0;32mreturn\u001b[0m \u001b[0mimg\u001b[0m\u001b[0;34m\u001b[0m\u001b[0m\n\u001b[1;32m      9\u001b[0m \u001b[0;34m\u001b[0m\u001b[0m\n\u001b[0;32m---> 10\u001b[0;31m     \u001b[0mpiece_locations\u001b[0m \u001b[0;34m=\u001b[0m \u001b[0mfind_piece_locations\u001b[0m\u001b[0;34m(\u001b[0m\u001b[0mimg\u001b[0m\u001b[0;34m,\u001b[0m \u001b[0mnum_pieces\u001b[0m\u001b[0;34m)\u001b[0m\u001b[0;34m\u001b[0m\u001b[0m\n\u001b[0m\u001b[1;32m     11\u001b[0m \u001b[0;34m\u001b[0m\u001b[0m\n\u001b[1;32m     12\u001b[0m     \u001b[0mpieces\u001b[0m \u001b[0;34m=\u001b[0m \u001b[0;34m[\u001b[0m\u001b[0;34m]\u001b[0m\u001b[0;34m\u001b[0m\u001b[0m\n",
      "\u001b[0;32m~/Desktop/puzzle-solver/cv/separate_pieces.py\u001b[0m in \u001b[0;36mfind_piece_locations\u001b[0;34m(img, num_pieces)\u001b[0m\n\u001b[1;32m     45\u001b[0m     \u001b[0;32mwhile\u001b[0m \u001b[0mlen\u001b[0m\u001b[0;34m(\u001b[0m\u001b[0mpiece_locations\u001b[0m\u001b[0;34m)\u001b[0m \u001b[0;34m!=\u001b[0m \u001b[0mnum_pieces\u001b[0m\u001b[0;34m:\u001b[0m\u001b[0;34m\u001b[0m\u001b[0m\n\u001b[1;32m     46\u001b[0m \u001b[0;34m\u001b[0m\u001b[0m\n\u001b[0;32m---> 47\u001b[0;31m         piece_locations = [region.bbox for region in props \n\u001b[0m\u001b[1;32m     48\u001b[0m             if (puzzle_size / size_threshold) <= region.equivalent_diameter <= (puzzle_size * size_threshold)]\n\u001b[1;32m     49\u001b[0m \u001b[0;34m\u001b[0m\u001b[0m\n",
      "\u001b[0;32m~/Desktop/puzzle-solver/cv/separate_pieces.py\u001b[0m in \u001b[0;36m<listcomp>\u001b[0;34m(.0)\u001b[0m\n\u001b[1;32m     46\u001b[0m \u001b[0;34m\u001b[0m\u001b[0m\n\u001b[1;32m     47\u001b[0m         piece_locations = [region.bbox for region in props \n\u001b[0;32m---> 48\u001b[0;31m             if (puzzle_size / size_threshold) <= region.equivalent_diameter <= (puzzle_size * size_threshold)]\n\u001b[0m\u001b[1;32m     49\u001b[0m \u001b[0;34m\u001b[0m\u001b[0m\n\u001b[1;32m     50\u001b[0m         \u001b[0;32mif\u001b[0m \u001b[0mlen\u001b[0m\u001b[0;34m(\u001b[0m\u001b[0mpiece_locations\u001b[0m\u001b[0;34m)\u001b[0m \u001b[0;34m>\u001b[0m \u001b[0mnum_pieces\u001b[0m\u001b[0;34m:\u001b[0m\u001b[0;34m\u001b[0m\u001b[0m\n",
      "\u001b[0;32m/anaconda3/lib/python3.6/site-packages/skimage/measure/_regionprops.py\u001b[0m in \u001b[0;36mequivalent_diameter\u001b[0;34m(self)\u001b[0m\n\u001b[1;32m    176\u001b[0m     \u001b[0;32mdef\u001b[0m \u001b[0mequivalent_diameter\u001b[0m\u001b[0;34m(\u001b[0m\u001b[0mself\u001b[0m\u001b[0;34m)\u001b[0m\u001b[0;34m:\u001b[0m\u001b[0;34m\u001b[0m\u001b[0m\n\u001b[1;32m    177\u001b[0m         \u001b[0;32mif\u001b[0m \u001b[0mself\u001b[0m\u001b[0;34m.\u001b[0m\u001b[0m_ndim\u001b[0m \u001b[0;34m==\u001b[0m \u001b[0;36m2\u001b[0m\u001b[0;34m:\u001b[0m\u001b[0;34m\u001b[0m\u001b[0m\n\u001b[0;32m--> 178\u001b[0;31m             \u001b[0;32mreturn\u001b[0m \u001b[0msqrt\u001b[0m\u001b[0;34m(\u001b[0m\u001b[0;36m4\u001b[0m \u001b[0;34m*\u001b[0m \u001b[0mself\u001b[0m\u001b[0;34m.\u001b[0m\u001b[0marea\u001b[0m \u001b[0;34m/\u001b[0m \u001b[0mPI\u001b[0m\u001b[0;34m)\u001b[0m\u001b[0;34m\u001b[0m\u001b[0m\n\u001b[0m\u001b[1;32m    179\u001b[0m         \u001b[0;32melif\u001b[0m \u001b[0mself\u001b[0m\u001b[0;34m.\u001b[0m\u001b[0m_ndim\u001b[0m \u001b[0;34m==\u001b[0m \u001b[0;36m3\u001b[0m\u001b[0;34m:\u001b[0m\u001b[0;34m\u001b[0m\u001b[0m\n\u001b[1;32m    180\u001b[0m             \u001b[0;32mreturn\u001b[0m \u001b[0;34m(\u001b[0m\u001b[0;36m6\u001b[0m \u001b[0;34m*\u001b[0m \u001b[0mself\u001b[0m\u001b[0;34m.\u001b[0m\u001b[0marea\u001b[0m \u001b[0;34m/\u001b[0m \u001b[0mPI\u001b[0m\u001b[0;34m)\u001b[0m \u001b[0;34m**\u001b[0m \u001b[0;34m(\u001b[0m\u001b[0;36m1.\u001b[0m \u001b[0;34m/\u001b[0m \u001b[0;36m3\u001b[0m\u001b[0;34m)\u001b[0m\u001b[0;34m\u001b[0m\u001b[0m\n",
      "\u001b[0;31mKeyboardInterrupt\u001b[0m: "
     ]
    }
   ],
   "source": [
    "postprocess = partial(cv2.blur, ksize=(3, 3))\n",
    "results = []\n",
    "error_labels = []\n",
    "\n",
    "img = io.imread(\"test_images/pic6.jpeg\")\n",
    "pieces = preprocess(img, num_pieces)\n",
    "print(len(pieces))\n",
    "\n",
    "\n",
    "for piece in pieces:\n",
    "    \n",
    "    out_dict = process_piece(piece, after_segmentation_func=postprocess, scale_factor=0.4, \n",
    "                             harris_block_size=5, harris_ksize=5,\n",
    "                             corner_score_threshold=0.01, corner_minmax_threshold=100)\n",
    "    \n",
    "    plt.figure(figsize=(6, 6))\n",
    "    plt.title(\"PLACEHOLDER\")\n",
    "    plt.imshow(out_dict['extracted'], cmap='gray')\n",
    "    plt.scatter(out_dict['xy'][:, 0], out_dict['xy'][:, 1], color='red')\n",
    "    #plt.colorbar()\n",
    "    plt.show()\n",
    "    \n",
    "    if 'error' in out_dict:\n",
    "        print(\"PLACEHOLDER\", ':', out_dict['error'])\n",
    "        error_labels.append(\"PLACEHOLDER\")\n",
    "        traceback.print_exc()\n",
    "        continue\n",
    "        \n",
    "    else:\n",
    "        \n",
    "        plt.figure(figsize=(6, 6))\n",
    "        plt.imshow(out_dict['class_image'])\n",
    "        plot_grid((3, 3), out_dict, '_segmented', '_extracted', '_edges', 'class_image')\n",
    "        plt.show()\n",
    "\n",
    "        plot_side_images(out_dict['side_images'], out_dict['inout'])\n",
    "\n",
    "        results.append({'side_images': out_dict['side_images'], 'inout': out_dict['inout']})"
   ]
  },
  {
   "cell_type": "code",
   "execution_count": null,
   "metadata": {},
   "outputs": [],
   "source": [
    "to_ignore = ['D70']\n",
    "for el in error_labels:\n",
    "    labels.remove(el)\n",
    "\n",
    "for label, result in zip(labels, results):\n",
    "    \n",
    "    if label in to_ignore:\n",
    "        continue\n",
    "    \n",
    "    for i, (side_image, io) in enumerate(zip(result['side_images'], result['inout']), start=1):\n",
    "        \n",
    "        out_io = 'int' if io == 'in' else 'out'\n",
    "        side_image = side_image * 255\n",
    "        \n",
    "        \n",
    "        out_filename = \"{0}_{1}_{2}.jpg\".format(label, i, out_io)\n",
    "        out_path = join('sides', out_filename)\n",
    "        \n",
    "        cv2.imwrite(out_path, side_image)"
   ]
  },
  {
   "cell_type": "code",
   "execution_count": null,
   "metadata": {},
   "outputs": [],
   "source": [
    "img = io.imread(\"test_images/pic5.jpeg\")\n",
    "img = preprocess(img, num_pieces)[6]\n",
    "plt.imshow(img)\n",
    "plt.show()"
   ]
  },
  {
   "cell_type": "code",
   "execution_count": null,
   "metadata": {},
   "outputs": [],
   "source": [
    "import skimage\n",
    "import cv2\n",
    "from skimage.filters import try_all_threshold\n",
    "import side_extractor\n",
    "\n",
    "gray = cv2.cvtColor(img, cv2.COLOR_BGR2GRAY)\n",
    "gray = side_extractor.segment_piece(gray)\n",
    "\n",
    "gray = side_extractor.extract_piece(gray)\n",
    "ret, labels = cv2.connectedComponents(gray)\n",
    "connected_areas = [np.count_nonzero(labels == l) for l in range(1, ret)]\n",
    "max_area_idx = np.argmax(connected_areas) + 1\n",
    "gray[labels != max_area_idx] = 0\n",
    "gray = 255 - gray\n",
    "gray = side_extractor.extract_piece(gray)\n",
    "\n",
    "kernel1 = np.ones((5,5),np.uint8)\n",
    "closing1 = cv2.morphologyEx(gray, cv2.MORPH_CLOSE, kernel1)\n",
    "kernel2 = np.ones((6,6),np.uint8)\n",
    "closing2 = cv2.morphologyEx(gray, cv2.MORPH_CLOSE, kernel2)\n",
    "kernel3 = np.ones((7,7),np.uint8)\n",
    "closing3 = cv2.morphologyEx(gray, cv2.MORPH_CLOSE, kernel3)\n",
    "\n",
    "plt.imshow(img)\n",
    "plt.show()             \n",
    "plt.imshow(gray)\n",
    "plt.show()  \n",
    "plt.imshow(closing1)\n",
    "plt.show()  \n",
    "plt.imshow(closing2)\n",
    "plt.show()  \n",
    "plt.imshow(closing3)\n",
    "plt.show()  \n",
    "      \n",
    "\n",
    "# fig, ax = try_all_threshold(gray, figsize=(10, 8), verbose=False)\n",
    "# plt.show()"
   ]
  },
  {
   "cell_type": "code",
   "execution_count": null,
   "metadata": {},
   "outputs": [],
   "source": [
    "fast = cv2.FastFeatureDetector()"
   ]
  },
  {
   "cell_type": "code",
   "execution_count": null,
   "metadata": {},
   "outputs": [],
   "source": []
  }
 ],
 "metadata": {
  "kernelspec": {
   "display_name": "Python 3",
   "language": "python",
   "name": "python3"
  },
  "language_info": {
   "codemirror_mode": {
    "name": "ipython",
    "version": 3
   },
   "file_extension": ".py",
   "mimetype": "text/x-python",
   "name": "python",
   "nbconvert_exporter": "python",
   "pygments_lexer": "ipython3",
   "version": "3.6.5"
  }
 },
 "nbformat": 4,
 "nbformat_minor": 2
}
